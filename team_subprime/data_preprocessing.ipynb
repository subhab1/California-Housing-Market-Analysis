{
 "cells": [
  {
   "cell_type": "code",
   "execution_count": 1,
   "metadata": {},
   "outputs": [],
   "source": [
    "#Dependencies\n",
    "import pandas as pd\n",
    "from pathlib import Path\n",
    "import json\n",
    "import geopandas as gpd"
   ]
  },
  {
   "cell_type": "code",
   "execution_count": 2,
   "metadata": {},
   "outputs": [],
   "source": [
    "#Create and read file path\n",
    "\n",
    "housing_data_to_load = Path(\"Resources/CA_housing_prices.csv\")\n",
    "housing_data = pd.read_csv(housing_data_to_load)\n",
    "\n",
    "gdp_data_to_load = Path(\"Resources/GDP.csv\")\n",
    "gdp_data = pd.read_csv(gdp_data_to_load)\n",
    "\n",
    "interest_data_to_load = Path(\"Resources/FEDFUNDS.csv\")\n",
    "interest_data = pd.read_csv(interest_data_to_load)\n",
    "\n",
    "unemployment_data_to_load = Path(\"Resources/UNRATE.csv\")\n",
    "unemployment_data = pd.read_csv(unemployment_data_to_load)\n",
    "\n",
    "housing_data__fips_to_load = Path(\"Resources/CA_housing_prices_with_FIPS.csv\")\n",
    "housing_data_fips = pd.read_csv(housing_data__fips_to_load)"
   ]
  },
  {
   "cell_type": "code",
   "execution_count": 3,
   "metadata": {},
   "outputs": [],
   "source": [
    "housing_merged_df = housing_data.merge(gdp_data, on='Date', how='outer').merge(interest_data, on='Date', how='outer').merge(unemployment_data, on='Date', how='outer')\n",
    "housing_merged_df = housing_merged_df.dropna() "
   ]
  },
  {
   "cell_type": "code",
   "execution_count": 4,
   "metadata": {},
   "outputs": [],
   "source": [
    "# Initialize a dictionary to hold the JSON data\n",
    "pricing_data = {}\n",
    "\n",
    "# Iterate over columns (excluding 'Date')\n",
    "for column in housing_merged_df.columns[1:]:\n",
    "    date_value_dict = {}\n",
    "    \n",
    "    # Iterate over rows to extract date-value pairs\n",
    "    for index, row in housing_merged_df.iterrows():\n",
    "        date = row['Date']\n",
    "        value = row[column]\n",
    "        date_value_dict[date] = value\n",
    "    \n",
    "    # Add the date-value dictionary to the JSON data with the column name as the key\n",
    "    pricing_data[column] = date_value_dict\n",
    "\n",
    "# Define the name of the JSON file\n",
    "pricing_json_file_name = 'Resources/pricing_data.json'\n",
    "\n",
    "# Open the file in write mode and write the JSON data to it\n",
    "with open(pricing_json_file_name, 'w') as json_file:\n",
    "    json.dump(pricing_data, json_file, indent=4)"
   ]
  },
  {
   "cell_type": "code",
   "execution_count": 5,
   "metadata": {},
   "outputs": [],
   "source": [
    "housing_data_fips['FIPS'] = housing_data_fips['FIPS'].astype(str).str.zfill(5)"
   ]
  },
  {
   "cell_type": "code",
   "execution_count": 6,
   "metadata": {},
   "outputs": [],
   "source": [
    "# Create an empty dictionary to store the JSON data\n",
    "date_data = {}\n",
    "\n",
    "# Iterate over rows\n",
    "for index, row in housing_merged_df.iterrows():\n",
    "    date = row[\"Date\"]\n",
    "    gdp = row[\"GDP\"]\n",
    "    fedfunds = row[\"FEDFUNDS\"]\n",
    "    unrate = row[\"UNRATE\"]\n",
    "    \n",
    "    # Create a dictionary for each county and its corresponding data\n",
    "    county_data = {}\n",
    "    for county in housing_merged_df.columns[1:-3]:  # Adjust the column index range accordingly\n",
    "        county_name = county\n",
    "        price = row[county]\n",
    "        \n",
    "        # Find the FIPS data for the county using the transposed DataFrame\n",
    "        fips_data = housing_data_fips[housing_data_fips[\"County\"] == county_name][\"FIPS\"].values[0]\n",
    "        \n",
    "        county_data[county_name] = {\n",
    "            \"Price\": price,\n",
    "            \"FIPS\": fips_data\n",
    "        }\n",
    "    \n",
    "    # Create the JSON object for the current row\n",
    "    json_object = {\n",
    "        \"Counties\": county_data,\n",
    "        \"GDP\": gdp,\n",
    "        \"Interest\": fedfunds,\n",
    "        \"Unemployment\": unrate\n",
    "    }\n",
    "    \n",
    "    # Add the JSON object to the dictionary with the date as the key\n",
    "    date_data[date] = json_object\n",
    "\n",
    "# Specify the file path where you want to save the JSON data\n",
    "file_path = \"Resources/date_data.json\"\n",
    "\n",
    "# Write the JSON data to the file\n",
    "with open(file_path, 'w') as json_file:\n",
    "    json.dump(date_data, json_file, indent=4)\n"
   ]
  },
  {
   "cell_type": "code",
   "execution_count": 2,
   "metadata": {},
   "outputs": [
    {
     "name": "stderr",
     "output_type": "stream",
     "text": [
      "/Users/andreaaguilar/anaconda3/envs/dev/lib/python3.10/site-packages/geopandas/io/file.py:299: FutureWarning: pandas.Int64Index is deprecated and will be removed from pandas in a future version. Use pandas.Index with the appropriate dtype instead.\n",
      "  pd.Int64Index,\n"
     ]
    }
   ],
   "source": [
    "# Load your dataset with housing price data\n",
    "housing_data = pd.read_csv('Resources/county_housingprice.csv')\n",
    "\n",
    "# Load GeoJSON data for California counties\n",
    "counties_geojson = gpd.read_file('Resources/california-counties.geojson')\n",
    "\n",
    "# Merge the datasets \n",
    "merged_data = counties_geojson.merge(housing_data, how='left', left_on='name', right_on='county_name')\n",
    "\n",
    "# Save the merged GeoJSON in a new geojson file.\n",
    "merged_data.to_file('Resources/new_counties.geojson', driver='GeoJSON')"
   ]
  }
 ],
 "metadata": {
  "kernelspec": {
   "display_name": "dev",
   "language": "python",
   "name": "python3"
  },
  "language_info": {
   "codemirror_mode": {
    "name": "ipython",
    "version": 3
   },
   "file_extension": ".py",
   "mimetype": "text/x-python",
   "name": "python",
   "nbconvert_exporter": "python",
   "pygments_lexer": "ipython3",
   "version": "3.10.12"
  },
  "orig_nbformat": 4
 },
 "nbformat": 4,
 "nbformat_minor": 2
}
